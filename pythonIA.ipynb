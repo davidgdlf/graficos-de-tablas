{
 "cells": [
  {
   "cell_type": "markdown",
   "id": "6cd31347",
   "metadata": {},
   "source": [
    "python en IA\n",
    "\n",
    "https://www.analyticslane.com/2018/07/06/agrupacion-de-datos-por-fecha-en-pandas/\n",
    "\n",
    "https://aprendeia.com/agrupando-los-datos-con-python/\n",
    "\n",
    "con unitsInStock   vamos a hacer grupos\n",
    "0-50: stock crítico\n",
    "51-100: stock normal\n",
    "101-500: stock\n",
    "\n",
    "reto:dibuja un grafico donde muestre info en base a esos rangos"
   ]
  },
  {
   "cell_type": "code",
   "execution_count": 3,
   "id": "3b7dc191",
   "metadata": {},
   "outputs": [
    {
     "name": "stdout",
     "output_type": "stream",
     "text": [
      "0        (0.0, 50.0]\n",
      "1        (0.0, 50.0]\n",
      "2        (0.0, 50.0]\n",
      "3      (50.0, 100.0]\n",
      "4                NaN\n",
      "           ...      \n",
      "72    (100.0, 500.0]\n",
      "73       (0.0, 50.0]\n",
      "74    (100.0, 500.0]\n",
      "75     (50.0, 100.0]\n",
      "76       (0.0, 50.0]\n",
      "Name: unitsInStock, Length: 77, dtype: category\n",
      "Categories (3, interval[int64, right]): [(0, 50] < (50, 100] < (100, 500]]\n"
     ]
    },
    {
     "name": "stderr",
     "output_type": "stream",
     "text": [
      "C:\\Users\\Tecnicos\\AppData\\Local\\Temp\\ipykernel_19784\\1507593246.py:8: SettingWithCopyWarning: \n",
      "A value is trying to be set on a copy of a slice from a DataFrame.\n",
      "Try using .loc[row_indexer,col_indexer] = value instead\n",
      "\n",
      "See the caveats in the documentation: https://pandas.pydata.org/pandas-docs/stable/user_guide/indexing.html#returning-a-view-versus-a-copy\n",
      "  df['unitsInStock']=pd.cut(df['unitsInStock'], bins, grupos)\n"
     ]
    }
   ],
   "source": [
    "import pandas as pd\n",
    "\n",
    "productos=pd.read_csv(\"products.csv\")\n",
    "#print(productos)\n",
    "bins=[0,50,100,500]\n",
    "grupos=['stock critico', 'stock normal', 'stock']\n",
    "df=productos[['unitsInStock']]\n",
    "df['unitsInStock']=pd.cut(df['unitsInStock'], bins, grupos)\n",
    "print(df['unitsInStock'])"
   ]
  },
  {
   "cell_type": "markdown",
   "id": "7a95847d",
   "metadata": {},
   "source": [
    "agrupar datos por fechas"
   ]
  },
  {
   "cell_type": "code",
   "execution_count": 5,
   "id": "c81ae253",
   "metadata": {},
   "outputs": [
    {
     "name": "stdout",
     "output_type": "stream",
     "text": [
      "                value\n",
      "date                 \n",
      "2018-03-31  49.133333\n",
      "2018-06-30  46.296703\n",
      "2018-09-30  51.532609\n",
      "2018-12-31  53.836957\n"
     ]
    }
   ],
   "source": [
    "import datetime\n",
    "import numpy as np\n",
    "import pandas as pd\n",
    "df = pd.DataFrame()\n",
    "date = [datetime.datetime(2018, 1, 1) + datetime.timedelta(days=x) for x in range(0, 365)]\n",
    "value = list(np.random.randint(low=0, high=100, size=365))\n",
    "df['date'] = pd.to_datetime(date)\n",
    "df.index = df['date']\n",
    "df['value'] = value\n",
    "#print(df['date'])\n",
    "#print(df['value'])\n",
    "print(df.resample('Q').mean())"
   ]
  },
  {
   "cell_type": "markdown",
   "id": "cffb368b",
   "metadata": {},
   "source": [
    "reto --> diseña un grafico de barras para mostrar la media de datos por trimestre\n",
    "\n",
    "reto --> dibuja un grafico donde muestre info en base a esos rangos"
   ]
  },
  {
   "cell_type": "code",
   "execution_count": 9,
   "id": "c2b00bf5",
   "metadata": {},
   "outputs": [
    {
     "name": "stdout",
     "output_type": "stream",
     "text": [
      "0        (0.0, 50.0]\n",
      "1        (0.0, 50.0]\n",
      "2        (0.0, 50.0]\n",
      "3      (50.0, 100.0]\n",
      "4                NaN\n",
      "           ...      \n",
      "72    (100.0, 500.0]\n",
      "73       (0.0, 50.0]\n",
      "74    (100.0, 500.0]\n",
      "75     (50.0, 100.0]\n",
      "76       (0.0, 50.0]\n",
      "Name: unitsInStock, Length: 77, dtype: category\n",
      "Categories (3, interval[int64, right]): [(0, 50] < (50, 100] < (100, 500]]\n"
     ]
    },
    {
     "name": "stderr",
     "output_type": "stream",
     "text": [
      "C:\\Users\\Tecnicos\\AppData\\Local\\Temp\\ipykernel_19784\\1757750919.py:8: SettingWithCopyWarning: \n",
      "A value is trying to be set on a copy of a slice from a DataFrame.\n",
      "Try using .loc[row_indexer,col_indexer] = value instead\n",
      "\n",
      "See the caveats in the documentation: https://pandas.pydata.org/pandas-docs/stable/user_guide/indexing.html#returning-a-view-versus-a-copy\n",
      "  df['unitsInStock']=pd.cut(df['unitsInStock'], bins, grupos)\n"
     ]
    },
    {
     "ename": "NameError",
     "evalue": "name 'plot' is not defined",
     "output_type": "error",
     "traceback": [
      "\u001b[1;31m---------------------------------------------------------------------------\u001b[0m",
      "\u001b[1;31mNameError\u001b[0m                                 Traceback (most recent call last)",
      "\u001b[1;32m~\\AppData\\Local\\Temp\\ipykernel_19784\\1757750919.py\u001b[0m in \u001b[0;36m<module>\u001b[1;34m\u001b[0m\n\u001b[0;32m      9\u001b[0m \u001b[0mprint\u001b[0m\u001b[1;33m(\u001b[0m\u001b[0mdf\u001b[0m\u001b[1;33m[\u001b[0m\u001b[1;34m'unitsInStock'\u001b[0m\u001b[1;33m]\u001b[0m\u001b[1;33m)\u001b[0m\u001b[1;33m\u001b[0m\u001b[1;33m\u001b[0m\u001b[0m\n\u001b[0;32m     10\u001b[0m \u001b[0mdf\u001b[0m\u001b[1;33m.\u001b[0m\u001b[0munitsInStock\u001b[0m\u001b[1;33m.\u001b[0m\u001b[0mvalue_counts\u001b[0m\u001b[1;33m(\u001b[0m\u001b[1;33m)\u001b[0m\u001b[1;33m.\u001b[0m\u001b[0mplot\u001b[0m\u001b[1;33m.\u001b[0m\u001b[0mpie\u001b[0m\u001b[1;33m(\u001b[0m\u001b[1;33m)\u001b[0m\u001b[1;33m\u001b[0m\u001b[1;33m\u001b[0m\u001b[0m\n\u001b[1;32m---> 11\u001b[1;33m \u001b[0mplot\u001b[0m\u001b[1;33m.\u001b[0m\u001b[0mshow\u001b[0m\u001b[1;33m(\u001b[0m\u001b[1;33m)\u001b[0m\u001b[1;33m\u001b[0m\u001b[1;33m\u001b[0m\u001b[0m\n\u001b[0m",
      "\u001b[1;31mNameError\u001b[0m: name 'plot' is not defined"
     ]
    },
    {
     "data": {
      "image/png": "[encoded data removed]",
      "text/plain": [
       "<Figure size 640x480 with 1 Axes>"
      ]
     },
     "metadata": {},
     "output_type": "display_data"
    }
   ],
   "source": [
    "import pandas as pd\n",
    "\n",
    "productos=pd.read_csv(\"products.csv\")\n",
    "#print(productos)\n",
    "bins=[0,50,100,500]\n",
    "grupos=['stock critico', 'stock normal', 'stock']\n",
    "df=productos[['unitsInStock']]\n",
    "df['unitsInStock']=pd.cut(df['unitsInStock'], bins, grupos)\n",
    "print(df['unitsInStock'])\n",
    "df.unitsInStock.value_counts().plot.pie()\n",
    "plot.show()"
   ]
  },
  {
   "cell_type": "code",
   "execution_count": 8,
   "id": "ae6a1e90",
   "metadata": {},
   "outputs": [
    {
     "name": "stdout",
     "output_type": "stream",
     "text": [
      "                value\n",
      "date                 \n",
      "2018-03-31  44.088889\n",
      "2018-06-30  50.945055\n",
      "2018-09-30  53.336957\n",
      "2018-12-31  49.043478\n"
     ]
    },
    {
     "data": {
      "text/plain": [
       "<AxesSubplot:ylabel='date'>"
      ]
     },
     "execution_count": 8,
     "metadata": {},
     "output_type": "execute_result"
    },
    {
     "data": {
      "image/png": "[encoded data removed]",
      "text/plain": [
       "<Figure size 640x480 with 1 Axes>"
      ]
     },
     "metadata": {},
     "output_type": "display_data"
    }
   ],
   "source": [
    "import datetime\n",
    "import numpy as np\n",
    "import pandas as pd\n",
    "df = pd.DataFrame()\n",
    "date = [datetime.datetime(2018, 1, 1) + datetime.timedelta(days=x) for x in range(0, 365)]\n",
    "value = list(np.random.randint(low=0, high=100, size=365))\n",
    "df['date'] = pd.to_datetime(date)\n",
    "df.index = df['date']\n",
    "df['value'] = value\n",
    "#print(df['date'])\n",
    "#print(df['value'])\n",
    "print(df.resample('Q').mean())\n",
    "\n",
    "x=df.groupby(df['date'].dt.quarter).mean()\n",
    "x.plot.barh()"
   ]
  },
  {
   "cell_type": "code",
   "execution_count": null,
   "id": "40b920b9",
   "metadata": {},
   "outputs": [],
   "source": []
  }
 ],
 "metadata": {
  "kernelspec": {
   "display_name": "Python 3 (ipykernel)",
   "language": "python",
   "name": "python3"
  },
  "language_info": {
   "codemirror_mode": {
    "name": "ipython",
    "version": 3
   },
   "file_extension": ".py",
   "mimetype": "text/x-python",
   "name": "python",
   "nbconvert_exporter": "python",
   "pygments_lexer": "ipython3",
   "version": "3.9.13"
  }
 },
 "nbformat": 4,
 "nbformat_minor": 5
}
